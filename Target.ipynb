{
 "cells": [
  {
   "cell_type": "code",
   "execution_count": 289,
   "id": "bb941b24",
   "metadata": {},
   "outputs": [],
   "source": [
    "import pandas as pd\n",
    "import numpy as np\n",
    "import matplotlib.pyplot as plt\n",
    "%matplotlib inline\n"
   ]
  },
  {
   "cell_type": "code",
   "execution_count": 290,
   "id": "637f8762",
   "metadata": {
    "scrolled": true
   },
   "outputs": [
    {
     "data": {
      "image/png": "[encoded data removed]",
      "text/plain": [
       "<Figure size 432x288 with 1 Axes>"
      ]
     },
     "metadata": {
      "needs_background": "light"
     },
     "output_type": "display_data"
    }
   ],
   "source": [
    "X = 2 * np.random.rand(100,1) #created some data \n",
    "y = 4 + 3 * X + np.random.randn(100,1) # linear data with noise\n",
    "plt.scatter(X,y)\n",
    "plt.xlabel('x1')\n",
    "plt.ylabel('Y')\n",
    "plt.show()"
   ]
  },
  {
   "cell_type": "markdown",
   "id": "cb81e0f4",
   "metadata": {},
   "source": [
    "# Function y= 4+3*x1 +Gaussian noise ,so theta0 must be close to 4 while theta1 close to 3.\n"
   ]
  },
  {
   "cell_type": "markdown",
   "id": "55cec3e2",
   "metadata": {},
   "source": [
    "# A) Closed-from equations for optimization "
   ]
  },
  {
   "cell_type": "markdown",
   "id": "b6490f96",
   "metadata": {},
   "source": [
    "# Techinique 1 :Normal Equation to find model parameters"
   ]
  },
  {
   "cell_type": "code",
   "execution_count": 291,
   "id": "f0760ec9",
   "metadata": {},
   "outputs": [],
   "source": [
    "X_b = np.c_[np.ones((100,1)),X]  # add x0=1 to each instance \n",
    "\n",
    "theta_best = np.linalg.inv(X_b.T.dot(X_b)).dot(X_b.T).dot(y)"
   ]
  },
  {
   "cell_type": "code",
   "execution_count": 292,
   "id": "271fa43f",
   "metadata": {
    "scrolled": true
   },
   "outputs": [
    {
     "data": {
      "text/plain": [
       "array([[3.82013988],\n",
       "       [3.10139092]])"
      ]
     },
     "execution_count": 292,
     "metadata": {},
     "output_type": "execute_result"
    }
   ],
   "source": [
    "theta_best"
   ]
  },
  {
   "cell_type": "markdown",
   "id": "ff61b91f",
   "metadata": {},
   "source": [
    "# Making predictions using  yhat = theta_best * x and plotting it\n"
   ]
  },
  {
   "cell_type": "code",
   "execution_count": 293,
   "id": "0979bb72",
   "metadata": {},
   "outputs": [
    {
     "data": {
      "text/plain": [
       "array([[ 3.82013988],\n",
       "       [10.02292172]])"
      ]
     },
     "execution_count": 293,
     "metadata": {},
     "output_type": "execute_result"
    }
   ],
   "source": [
    "X_new = np.array([[0],[2]])\n",
    "X_new_b = np.c_[np.ones((2,1)),X_new]\n",
    "y_predict = X_new_b.dot(theta_best)\n",
    "y_predict\n"
   ]
  },
  {
   "cell_type": "code",
   "execution_count": 294,
   "id": "6d69051b",
   "metadata": {},
   "outputs": [
    {
     "data": {
      "image/png": "[encoded data removed]",
      "text/plain": [
       "<Figure size 432x288 with 1 Axes>"
      ]
     },
     "metadata": {
      "needs_background": "light"
     },
     "output_type": "display_data"
    }
   ],
   "source": [
    "plt.plot(X_new,y_predict,'r-')\n",
    "plt.plot(X,y,'b.')\n",
    "plt.axis([0,2,0,15])\n",
    "plt.xlabel('x1')\n",
    "plt.ylabel('y')\n",
    "plt.show()"
   ]
  },
  {
   "cell_type": "markdown",
   "id": "5734bf89",
   "metadata": {},
   "source": [
    "# Technique 2:Finding model parameters using Scikit learn library using Singular Value Decomposition technique"
   ]
  },
  {
   "cell_type": "code",
   "execution_count": 295,
   "id": "d98d7ac7",
   "metadata": {},
   "outputs": [
    {
     "data": {
      "text/plain": [
       "LinearRegression()"
      ]
     },
     "execution_count": 295,
     "metadata": {},
     "output_type": "execute_result"
    }
   ],
   "source": [
    "from sklearn.linear_model import LinearRegression\n",
    "lin_reg = LinearRegression()\n",
    "lin_reg.fit(X,y)\n"
   ]
  },
  {
   "cell_type": "code",
   "execution_count": 296,
   "id": "f2a06822",
   "metadata": {
    "scrolled": true
   },
   "outputs": [
    {
     "data": {
      "text/plain": [
       "(array([3.82013988]), array([[3.10139092]]))"
      ]
     },
     "execution_count": 296,
     "metadata": {},
     "output_type": "execute_result"
    }
   ],
   "source": [
    "lin_reg.intercept_,lin_reg.coef_"
   ]
  },
  {
   "cell_type": "code",
   "execution_count": 297,
   "id": "45bb3d55",
   "metadata": {},
   "outputs": [
    {
     "data": {
      "text/plain": [
       "array([[ 3.82013988],\n",
       "       [11.46041964]])"
      ]
     },
     "execution_count": 297,
     "metadata": {},
     "output_type": "execute_result"
    }
   ],
   "source": [
    "lin_reg.intercept_[0]*X_new  + lin_reg.intercept_[0]"
   ]
  },
  {
   "cell_type": "code",
   "execution_count": 298,
   "id": "424df928",
   "metadata": {},
   "outputs": [
    {
     "data": {
      "text/plain": [
       "Text(0, 0.5, 'y')"
      ]
     },
     "execution_count": 298,
     "metadata": {},
     "output_type": "execute_result"
    },
    {
     "data": {
      "image/png": "[encoded data removed]",
      "text/plain": [
       "<Figure size 432x288 with 1 Axes>"
      ]
     },
     "metadata": {
      "needs_background": "light"
     },
     "output_type": "display_data"
    }
   ],
   "source": [
    "plt.scatter(X, y,  color='blue')\n",
    "plt.plot(X_new, lin_reg.coef_[0][0]* X_new + lin_reg.intercept_[0], '-r')\n",
    "plt.xlabel(\"x1\")\n",
    "plt.ylabel(\"y\")"
   ]
  },
  {
   "cell_type": "markdown",
   "id": "987578ec",
   "metadata": {},
   "source": [
    "# Linear regression class works using least squares which is based on the concept of pseudoinverse\n"
   ]
  },
  {
   "cell_type": "code",
   "execution_count": 299,
   "id": "e668c473",
   "metadata": {},
   "outputs": [
    {
     "data": {
      "text/plain": [
       "array([[3.82013988],\n",
       "       [3.10139092]])"
      ]
     },
     "execution_count": 299,
     "metadata": {},
     "output_type": "execute_result"
    }
   ],
   "source": [
    "\n",
    "theta_best_svd,residuals,rank,s=np.linalg.lstsq(X_b,y,rcond = 1e-6)\n",
    "theta_best_svd"
   ]
  },
  {
   "cell_type": "markdown",
   "id": "712f2525",
   "metadata": {},
   "source": [
    "# Computation of pseudoinverse is encapsulated in the Linear Regression class .Psuedoinverse of X is directly applicable even when matrices are not invertible#"
   ]
  },
  {
   "cell_type": "code",
   "execution_count": 300,
   "id": "6e878462",
   "metadata": {},
   "outputs": [
    {
     "data": {
      "text/plain": [
       "array([[3.82013988],\n",
       "       [3.10139092]])"
      ]
     },
     "execution_count": 300,
     "metadata": {},
     "output_type": "execute_result"
    }
   ],
   "source": [
    "\n",
    "np.linalg.pinv(X_b).dot(y)"
   ]
  },
  {
   "cell_type": "markdown",
   "id": "5d3f0eb6",
   "metadata": {},
   "source": [
    "# 2) Iterative optimization"
   ]
  },
  {
   "cell_type": "markdown",
   "id": "850a5f0d",
   "metadata": {},
   "source": [
    "#  Techinique 1: Batch Gradient descent alogorithm "
   ]
  },
  {
   "cell_type": "code",
   "execution_count": 320,
   "id": "92cb6475",
   "metadata": {},
   "outputs": [
    {
     "data": {
      "image/png": "[encoded data removed]",
      "text/plain": [
       "<Figure size 432x288 with 1 Axes>"
      ]
     },
     "metadata": {
      "needs_background": "light"
     },
     "output_type": "display_data"
    }
   ],
   "source": [
    "n_iteration = 1000\n",
    "eta = 0.1 #learning rate(tried later by varying  eta =0.2 ,eta = 0.5)\n",
    "m = 100\n",
    "\n",
    "theta = np.random.randn(2,1)\n",
    "cost_list = []   #to record all cost values to this list\n",
    "theta_list = []  #to record all theta_0 and theta_1 values to this list \n",
    "prediction_list = []\n",
    "plt.scatter(X,y,color='blue')\n",
    " \n",
    "for iteration in range(n_iteration):\n",
    "    prediction = np.dot(X_b, theta) #predicted y values theta_0*x0+theta_1*x1\n",
    "    plt.plot(X, prediction,'-r')\n",
    "    plt.xlabel('x1')\n",
    "    plt.ylabel('y')\n",
    "    prediction_list.append(prediction)\n",
    "    error = prediction - y\n",
    "    cost = 1/(2*m) * np.dot(error.T, error)   #  (1/2m)*sum[(error)^2]  or 1/2 Mean square error\n",
    "    cost_list.append(cost)\n",
    "    theta = theta - (eta* (1/m) * np.dot(X_b.T, error))  \n",
    "    # eta* (1/m) * sum[error*x]\n",
    "    theta_list.append(theta)\n"
   ]
  },
  {
   "cell_type": "code",
   "execution_count": 321,
   "id": "8d11cc28",
   "metadata": {},
   "outputs": [
    {
     "data": {
      "text/plain": [
       "array([[3.82013983],\n",
       "       [3.10139096]])"
      ]
     },
     "execution_count": 321,
     "metadata": {},
     "output_type": "execute_result"
    }
   ],
   "source": [
    "theta"
   ]
  },
  {
   "cell_type": "code",
   "execution_count": 322,
   "id": "7fa454d9",
   "metadata": {
    "scrolled": true
   },
   "outputs": [],
   "source": [
    "c = np.reshape(cost_list,(-1,1))\n"
   ]
  },
  {
   "cell_type": "code",
   "execution_count": 323,
   "id": "aa9dd482",
   "metadata": {},
   "outputs": [
    {
     "data": {
      "text/plain": [
       "[<matplotlib.lines.Line2D at 0x1d96aef99d0>]"
      ]
     },
     "execution_count": 323,
     "metadata": {},
     "output_type": "execute_result"
    },
    {
     "data": {
      "image/png": "[encoded data removed]",
      "text/plain": [
       "<Figure size 432x288 with 1 Axes>"
      ]
     },
     "metadata": {
      "needs_background": "light"
     },
     "output_type": "display_data"
    }
   ],
   "source": [
    "plt.title('Cost Function J')\n",
    "plt.xlabel('No. of iterations')\n",
    "plt.ylabel('Cost_list')\n",
    "plt.plot(c)"
   ]
  },
  {
   "cell_type": "code",
   "execution_count": 324,
   "id": "1c55b818",
   "metadata": {},
   "outputs": [
    {
     "data": {
      "image/png": "[encoded data removed]",
      "text/plain": [
       "<Figure size 720x576 with 1 Axes>"
      ]
     },
     "metadata": {
      "needs_background": "light"
     },
     "output_type": "display_data"
    }
   ],
   "source": [
    "fig,ax = plt.subplots(figsize=(10,8))\n",
    "_=ax.plot(range(50),c[:50],'b.')"
   ]
  },
  {
   "cell_type": "markdown",
   "id": "7aaaa2de",
   "metadata": {},
   "source": [
    "# Hyperparamter tuning "
   ]
  },
  {
   "cell_type": "code",
   "execution_count": 325,
   "id": "5d883e1b",
   "metadata": {
    "scrolled": true
   },
   "outputs": [
    {
     "data": {
      "image/png": "[encoded data removed]",
      "text/plain": [
       "<Figure size 432x288 with 1 Axes>"
      ]
     },
     "metadata": {
      "needs_background": "light"
     },
     "output_type": "display_data"
    }
   ],
   "source": [
    "eta = 0.02\n",
    "theta = np.random.randn(2,1)# random initialization\n",
    "plt.scatter(X, y,  color='blue')\n",
    "for iteration in range(10):\n",
    "    gradients = 1/m*X_b.T.dot(X_b.dot(theta)-y)#gradient vector of the cost function\n",
    "    plt.plot(X, theta[0][0]*X + theta[0], '-r')\n",
    "    theta = theta - eta*gradients\n",
    "    \n",
    "\n"
   ]
  },
  {
   "cell_type": "code",
   "execution_count": 326,
   "id": "8c5e7edd",
   "metadata": {},
   "outputs": [
    {
     "data": {
      "text/plain": [
       "array([[1.16765536],\n",
       "       [1.43740446]])"
      ]
     },
     "execution_count": 326,
     "metadata": {},
     "output_type": "execute_result"
    }
   ],
   "source": [
    "theta"
   ]
  },
  {
   "cell_type": "code",
   "execution_count": 327,
   "id": "e6836cfc",
   "metadata": {},
   "outputs": [
    {
     "data": {
      "text/plain": [
       "Text(0, 0.5, 'y')"
      ]
     },
     "execution_count": 327,
     "metadata": {},
     "output_type": "execute_result"
    },
    {
     "data": {
      "image/png": "[encoded data removed]",
      "text/plain": [
       "<Figure size 432x288 with 1 Axes>"
      ]
     },
     "metadata": {
      "needs_background": "light"
     },
     "output_type": "display_data"
    }
   ],
   "source": [
    "eta = 0.5\n",
    "theta = np.random.randn(2,1)# random initialization\n",
    "plt.scatter(X, y,  color='blue')\n",
    "for iteration in range(10):\n",
    "    gradients = 2/m*X_b.T.dot(X_b.dot(theta)-y)\n",
    "    plt.plot(X, theta[0][0]*X + theta[0], '-r')\n",
    "    theta = theta - eta*gradients\n",
    "\n",
    "plt.axis([0,2,0,15])\n",
    "plt.xlabel(\"x1\")\n",
    "plt.ylabel(\"y\")"
   ]
  },
  {
   "cell_type": "markdown",
   "id": "225373fe",
   "metadata": {},
   "source": [
    "#  Tehnique 2: Stochastic Gradient Descent \n"
   ]
  },
  {
   "cell_type": "code",
   "execution_count": 336,
   "id": "53a7e1a3",
   "metadata": {},
   "outputs": [],
   "source": [
    "n_epochs = 10\n",
    "theta = np.random.randn(2,1)\n",
    "m =1000\n",
    "eta = 0.1\n",
    "avg1=[]\n",
    "\n",
    "for epoch in range(n_epochs):\n",
    "    cost =0\n",
    "    for i in range(m):\n",
    "        random_index = np.random.randint(m)\n",
    "        xi=X_b[random_index:random_index+1]\n",
    "        yi=y[random_index:random_index+1]\n",
    "        prediction = xi.dot(theta)\n",
    "        error = prediction - yi\n",
    "        cost+=1/2*np.dot(error.T, error)\n",
    "        gradients = xi.T.dot(error)\n",
    "        theta = theta -eta *gradients\n",
    "        avgcost=cost/m\n",
    "    avg1.append(avgcost)"
   ]
  },
  {
   "cell_type": "code",
   "execution_count": 337,
   "id": "c7f3ea16",
   "metadata": {},
   "outputs": [
    {
     "data": {
      "text/plain": [
       "array([[0.03987761]])"
      ]
     },
     "execution_count": 337,
     "metadata": {},
     "output_type": "execute_result"
    }
   ],
   "source": [
    "avgcost"
   ]
  },
  {
   "cell_type": "code",
   "execution_count": 338,
   "id": "117b02d7",
   "metadata": {},
   "outputs": [
    {
     "data": {
      "text/plain": [
       "[array([[0.11138682]]),\n",
       " array([[0.0639682]]),\n",
       " array([[0.05600467]]),\n",
       " array([[0.04382228]]),\n",
       " array([[0.04864733]]),\n",
       " array([[0.05884196]]),\n",
       " array([[0.04518766]]),\n",
       " array([[0.03489175]]),\n",
       " array([[0.04211054]]),\n",
       " array([[0.03987761]])]"
      ]
     },
     "execution_count": 338,
     "metadata": {},
     "output_type": "execute_result"
    }
   ],
   "source": [
    "avg1"
   ]
  },
  {
   "cell_type": "code",
   "execution_count": 339,
   "id": "ae6460cb",
   "metadata": {},
   "outputs": [
    {
     "data": {
      "text/plain": [
       "array([[3.94815888],\n",
       "       [2.81878448]])"
      ]
     },
     "execution_count": 339,
     "metadata": {},
     "output_type": "execute_result"
    }
   ],
   "source": [
    "theta"
   ]
  },
  {
   "cell_type": "code",
   "execution_count": 340,
   "id": "ba5dc730",
   "metadata": {},
   "outputs": [],
   "source": [
    "c1 = np.reshape(avg1,(-1,1))\n"
   ]
  },
  {
   "cell_type": "markdown",
   "id": "08ba187d",
   "metadata": {},
   "source": [
    "# Checking for its convergence"
   ]
  },
  {
   "cell_type": "code",
   "execution_count": 341,
   "id": "65c7c584",
   "metadata": {},
   "outputs": [
    {
     "data": {
      "text/plain": [
       "[<matplotlib.lines.Line2D at 0x1d9708118e0>]"
      ]
     },
     "execution_count": 341,
     "metadata": {},
     "output_type": "execute_result"
    },
    {
     "data": {
      "image/png": "[encoded data removed]",
      "text/plain": [
       "<Figure size 432x288 with 1 Axes>"
      ]
     },
     "metadata": {
      "needs_background": "light"
     },
     "output_type": "display_data"
    }
   ],
   "source": [
    "plt.title('Cost Function J')\n",
    "plt.xlabel('No. of iterations')\n",
    "plt.ylabel('Cost_list')\n",
    "plt.plot(c1)"
   ]
  },
  {
   "cell_type": "markdown",
   "id": "77b93a57",
   "metadata": {},
   "source": [
    "# SGD using sckit learn"
   ]
  },
  {
   "cell_type": "code",
   "execution_count": 342,
   "id": "d51a83df",
   "metadata": {},
   "outputs": [
    {
     "data": {
      "text/plain": [
       "SGDRegressor(eta0=0.1, max_iter=50, penalty=None)"
      ]
     },
     "execution_count": 342,
     "metadata": {},
     "output_type": "execute_result"
    }
   ],
   "source": [
    "# SGD using sckit learn\n",
    "from sklearn.linear_model import SGDRegressor\n",
    "sgd_reg =SGDRegressor(max_iter = 50, penalty =None,eta0 = 0.1 )\n",
    "sgd_reg.fit(X,y.ravel())"
   ]
  },
  {
   "cell_type": "code",
   "execution_count": 343,
   "id": "18bb1c7b",
   "metadata": {},
   "outputs": [
    {
     "data": {
      "text/plain": [
       "(array([3.79138955]), array([3.07816294]))"
      ]
     },
     "execution_count": 343,
     "metadata": {},
     "output_type": "execute_result"
    }
   ],
   "source": [
    "sgd_reg.intercept_,sgd_reg.coef_"
   ]
  },
  {
   "cell_type": "code",
   "execution_count": 344,
   "id": "97ef89fa",
   "metadata": {
    "scrolled": false
   },
   "outputs": [
    {
     "data": {
      "text/plain": [
       "[<matplotlib.lines.Line2D at 0x1d96a56d280>]"
      ]
     },
     "execution_count": 344,
     "metadata": {},
     "output_type": "execute_result"
    },
    {
     "data": {
      "image/png": "[encoded data removed]",
      "text/plain": [
       "<Figure size 432x288 with 1 Axes>"
      ]
     },
     "metadata": {
      "needs_background": "light"
     },
     "output_type": "display_data"
    }
   ],
   "source": [
    "plt.scatter(X,y,color ='blue')\n",
    "plt.plot(X, sgd_reg.coef_[0]*X+ sgd_reg.intercept_[0] ,'-r')\n",
    "        "
   ]
  }
 ],
 "metadata": {
  "kernelspec": {
   "display_name": "Python 3",
   "language": "python",
   "name": "python3"
  },
  "language_info": {
   "codemirror_mode": {
    "name": "ipython",
    "version": 3
   },
   "file_extension": ".py",
   "mimetype": "text/x-python",
   "name": "python",
   "nbconvert_exporter": "python",
   "pygments_lexer": "ipython3",
   "version": "3.8.8"
  }
 },
 "nbformat": 4,
 "nbformat_minor": 5
}
